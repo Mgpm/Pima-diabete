{
 "cells": [
  {
   "cell_type": "code",
   "execution_count": 3,
   "metadata": {},
   "outputs": [],
   "source": [
    "import pandas as pd\n",
    "import numpy as np\n",
    "import matplotlib.pyplot as plt\n",
    "%matplotlib inline\n",
    "from sklearn.preprocessing import MinMaxScaler\n",
    "from sklearn.decomposition import PCA,KernelPCA\n",
    "from sklearn.linear_model import LogisticRegression\n",
    "from sklearn.tree import DecisionTreeClassifier\n",
    "from sklearn.neighbors import KNeighborsClassifier\n",
    "from sklearn.discriminant_analysis import LinearDiscriminantAnalysis\n",
    "from sklearn.naive_bayes import GaussianNB\n",
    "from sklearn.svm import SVC\n",
    "from sklearn.ensemble import RandomForestClassifier\n",
    "from sklearn.neural_network import MLPClassifier\n",
    "from sklearn import model_selection \n",
    "from sklearn.cross_validation import train_test_split\n",
    "from sklearn.utils import shuffle\n",
    "from sklearn.metrics import confusion_matrix,precision_score,recall_score,accuracy_score\n",
    "import seaborn as sns\n",
    "import warnings\n",
    "warnings.filterwarnings(\"ignore\")\n"
   ]
  },
  {
   "cell_type": "code",
   "execution_count": 4,
   "metadata": {},
   "outputs": [
    {
     "data": {
      "text/plain": [
       "Index(['Pregnancies', 'Glucose', 'BloodPressure', 'SkinThickness', 'Insulin',\n",
       "       'BMI', 'DiabetesPedigreeFunction', 'Age', 'Outcome'],\n",
       "      dtype='object')"
      ]
     },
     "execution_count": 4,
     "metadata": {},
     "output_type": "execute_result"
    }
   ],
   "source": [
    "data = pd.read_csv(\"diabetes.csv\")\n",
    "data.columns"
   ]
  },
  {
   "cell_type": "code",
   "execution_count": 5,
   "metadata": {},
   "outputs": [
    {
     "data": {
      "text/plain": [
       "(768, 9)"
      ]
     },
     "execution_count": 5,
     "metadata": {},
     "output_type": "execute_result"
    }
   ],
   "source": [
    "data.shape"
   ]
  },
  {
   "cell_type": "code",
   "execution_count": 6,
   "metadata": {},
   "outputs": [
    {
     "data": {
      "text/html": [
       "<div>\n",
       "<style scoped>\n",
       "    .dataframe tbody tr th:only-of-type {\n",
       "        vertical-align: middle;\n",
       "    }\n",
       "\n",
       "    .dataframe tbody tr th {\n",
       "        vertical-align: top;\n",
       "    }\n",
       "\n",
       "    .dataframe thead th {\n",
       "        text-align: right;\n",
       "    }\n",
       "</style>\n",
       "<table border=\"1\" class=\"dataframe\">\n",
       "  <thead>\n",
       "    <tr style=\"text-align: right;\">\n",
       "      <th></th>\n",
       "      <th>Pregnancies</th>\n",
       "      <th>Glucose</th>\n",
       "      <th>BloodPressure</th>\n",
       "      <th>SkinThickness</th>\n",
       "      <th>Insulin</th>\n",
       "      <th>BMI</th>\n",
       "      <th>DiabetesPedigreeFunction</th>\n",
       "      <th>Age</th>\n",
       "      <th>Outcome</th>\n",
       "    </tr>\n",
       "  </thead>\n",
       "  <tbody>\n",
       "    <tr>\n",
       "      <th>0</th>\n",
       "      <td>6</td>\n",
       "      <td>148</td>\n",
       "      <td>72</td>\n",
       "      <td>35</td>\n",
       "      <td>0</td>\n",
       "      <td>33.6</td>\n",
       "      <td>0.627</td>\n",
       "      <td>50</td>\n",
       "      <td>1</td>\n",
       "    </tr>\n",
       "    <tr>\n",
       "      <th>1</th>\n",
       "      <td>1</td>\n",
       "      <td>85</td>\n",
       "      <td>66</td>\n",
       "      <td>29</td>\n",
       "      <td>0</td>\n",
       "      <td>26.6</td>\n",
       "      <td>0.351</td>\n",
       "      <td>31</td>\n",
       "      <td>0</td>\n",
       "    </tr>\n",
       "    <tr>\n",
       "      <th>2</th>\n",
       "      <td>8</td>\n",
       "      <td>183</td>\n",
       "      <td>64</td>\n",
       "      <td>0</td>\n",
       "      <td>0</td>\n",
       "      <td>23.3</td>\n",
       "      <td>0.672</td>\n",
       "      <td>32</td>\n",
       "      <td>1</td>\n",
       "    </tr>\n",
       "    <tr>\n",
       "      <th>3</th>\n",
       "      <td>1</td>\n",
       "      <td>89</td>\n",
       "      <td>66</td>\n",
       "      <td>23</td>\n",
       "      <td>94</td>\n",
       "      <td>28.1</td>\n",
       "      <td>0.167</td>\n",
       "      <td>21</td>\n",
       "      <td>0</td>\n",
       "    </tr>\n",
       "    <tr>\n",
       "      <th>4</th>\n",
       "      <td>0</td>\n",
       "      <td>137</td>\n",
       "      <td>40</td>\n",
       "      <td>35</td>\n",
       "      <td>168</td>\n",
       "      <td>43.1</td>\n",
       "      <td>2.288</td>\n",
       "      <td>33</td>\n",
       "      <td>1</td>\n",
       "    </tr>\n",
       "  </tbody>\n",
       "</table>\n",
       "</div>"
      ],
      "text/plain": [
       "   Pregnancies  Glucose  BloodPressure  SkinThickness  Insulin   BMI  \\\n",
       "0            6      148             72             35        0  33.6   \n",
       "1            1       85             66             29        0  26.6   \n",
       "2            8      183             64              0        0  23.3   \n",
       "3            1       89             66             23       94  28.1   \n",
       "4            0      137             40             35      168  43.1   \n",
       "\n",
       "   DiabetesPedigreeFunction  Age  Outcome  \n",
       "0                     0.627   50        1  \n",
       "1                     0.351   31        0  \n",
       "2                     0.672   32        1  \n",
       "3                     0.167   21        0  \n",
       "4                     2.288   33        1  "
      ]
     },
     "execution_count": 6,
     "metadata": {},
     "output_type": "execute_result"
    }
   ],
   "source": [
    "data.head(5)"
   ]
  },
  {
   "cell_type": "code",
   "execution_count": 7,
   "metadata": {},
   "outputs": [],
   "source": [
    "numerical=['Pregnancies', 'Glucose', 'BloodPressure', 'SkinThickness', 'Insulin','BMI', 'DiabetesPedigreeFunction','Age']\n",
    "scaler = MinMaxScaler()\n",
    "data[numerical]=scaler.fit_transform(data[numerical])\n",
    "\n"
   ]
  },
  {
   "cell_type": "code",
   "execution_count": 8,
   "metadata": {},
   "outputs": [
    {
     "data": {
      "text/plain": [
       "<matplotlib.axes._subplots.AxesSubplot at 0x7f6a23ca1128>"
      ]
     },
     "execution_count": 8,
     "metadata": {},
     "output_type": "execute_result"
    },
    {
     "data": {
      "image/png": "[encoded data removed]",
      "text/plain": [
       "<Figure size 864x288 with 1 Axes>"
      ]
     },
     "metadata": {},
     "output_type": "display_data"
    }
   ],
   "source": [
    "data.boxplot(column=numerical,figsize=(12,4))"
   ]
  },
  {
   "cell_type": "code",
   "execution_count": 9,
   "metadata": {},
   "outputs": [
    {
     "data": {
      "text/plain": [
       "(611, 9)"
      ]
     },
     "execution_count": 9,
     "metadata": {},
     "output_type": "execute_result"
    }
   ],
   "source": [
    "def NotOutliers(col):\n",
    "    Outlier = pd.DataFrame()\n",
    "    q1,q3 = np.percentile(data[col],[25,75])\n",
    "    iqr = q3-q1\n",
    "    lower_bound = q1-(iqr * 1.5)\n",
    "    upper_bound = q3 + (iqr * 1.5)\n",
    "    Outlier=data[(data[col] < upper_bound) & (data[col] > lower_bound)]\n",
    "    return Outlier\n",
    "\n",
    "data = NotOutliers('Insulin')\n",
    "data = NotOutliers('DiabetesPedigreeFunction')\n",
    "data = NotOutliers('Age')\n",
    "data = NotOutliers('BMI')\n",
    "data = NotOutliers('BloodPressure')\n",
    "data = NotOutliers('Pregnancies')\n",
    "data = NotOutliers('SkinThickness')\n",
    "data = NotOutliers('Glucose')\n",
    "data.shape"
   ]
  },
  {
   "cell_type": "code",
   "execution_count": 10,
   "metadata": {
    "scrolled": true
   },
   "outputs": [
    {
     "data": {
      "text/html": [
       "<div>\n",
       "<style scoped>\n",
       "    .dataframe tbody tr th:only-of-type {\n",
       "        vertical-align: middle;\n",
       "    }\n",
       "\n",
       "    .dataframe tbody tr th {\n",
       "        vertical-align: top;\n",
       "    }\n",
       "\n",
       "    .dataframe thead th {\n",
       "        text-align: right;\n",
       "    }\n",
       "</style>\n",
       "<table border=\"1\" class=\"dataframe\">\n",
       "  <thead>\n",
       "    <tr style=\"text-align: right;\">\n",
       "      <th></th>\n",
       "      <th>Pregnancies</th>\n",
       "      <th>Glucose</th>\n",
       "      <th>BloodPressure</th>\n",
       "      <th>SkinThickness</th>\n",
       "      <th>Insulin</th>\n",
       "      <th>BMI</th>\n",
       "      <th>DiabetesPedigreeFunction</th>\n",
       "      <th>Age</th>\n",
       "      <th>Outcome</th>\n",
       "    </tr>\n",
       "  </thead>\n",
       "  <tbody>\n",
       "    <tr>\n",
       "      <th>count</th>\n",
       "      <td>611.000000</td>\n",
       "      <td>611.000000</td>\n",
       "      <td>611.000000</td>\n",
       "      <td>611.000000</td>\n",
       "      <td>611.000000</td>\n",
       "      <td>611.000000</td>\n",
       "      <td>611.000000</td>\n",
       "      <td>611.000000</td>\n",
       "      <td>611.000000</td>\n",
       "    </tr>\n",
       "    <tr>\n",
       "      <th>mean</th>\n",
       "      <td>0.218928</td>\n",
       "      <td>0.587989</td>\n",
       "      <td>0.588031</td>\n",
       "      <td>0.210204</td>\n",
       "      <td>0.078074</td>\n",
       "      <td>0.476220</td>\n",
       "      <td>0.148870</td>\n",
       "      <td>0.184888</td>\n",
       "      <td>0.297872</td>\n",
       "    </tr>\n",
       "    <tr>\n",
       "      <th>std</th>\n",
       "      <td>0.190188</td>\n",
       "      <td>0.136414</td>\n",
       "      <td>0.089507</td>\n",
       "      <td>0.154022</td>\n",
       "      <td>0.093101</td>\n",
       "      <td>0.095792</td>\n",
       "      <td>0.104898</td>\n",
       "      <td>0.174890</td>\n",
       "      <td>0.457698</td>\n",
       "    </tr>\n",
       "    <tr>\n",
       "      <th>min</th>\n",
       "      <td>0.000000</td>\n",
       "      <td>0.221106</td>\n",
       "      <td>0.360656</td>\n",
       "      <td>0.000000</td>\n",
       "      <td>0.000000</td>\n",
       "      <td>0.271237</td>\n",
       "      <td>0.000000</td>\n",
       "      <td>0.000000</td>\n",
       "      <td>0.000000</td>\n",
       "    </tr>\n",
       "    <tr>\n",
       "      <th>25%</th>\n",
       "      <td>0.058824</td>\n",
       "      <td>0.492462</td>\n",
       "      <td>0.524590</td>\n",
       "      <td>0.000000</td>\n",
       "      <td>0.000000</td>\n",
       "      <td>0.406855</td>\n",
       "      <td>0.069599</td>\n",
       "      <td>0.050000</td>\n",
       "      <td>0.000000</td>\n",
       "    </tr>\n",
       "    <tr>\n",
       "      <th>50%</th>\n",
       "      <td>0.176471</td>\n",
       "      <td>0.562814</td>\n",
       "      <td>0.590164</td>\n",
       "      <td>0.232323</td>\n",
       "      <td>0.048463</td>\n",
       "      <td>0.476900</td>\n",
       "      <td>0.120837</td>\n",
       "      <td>0.116667</td>\n",
       "      <td>0.000000</td>\n",
       "    </tr>\n",
       "    <tr>\n",
       "      <th>75%</th>\n",
       "      <td>0.352941</td>\n",
       "      <td>0.668342</td>\n",
       "      <td>0.655738</td>\n",
       "      <td>0.323232</td>\n",
       "      <td>0.141844</td>\n",
       "      <td>0.535022</td>\n",
       "      <td>0.216268</td>\n",
       "      <td>0.300000</td>\n",
       "      <td>1.000000</td>\n",
       "    </tr>\n",
       "    <tr>\n",
       "      <th>max</th>\n",
       "      <td>0.764706</td>\n",
       "      <td>0.944724</td>\n",
       "      <td>0.836066</td>\n",
       "      <td>0.606061</td>\n",
       "      <td>0.375887</td>\n",
       "      <td>0.740686</td>\n",
       "      <td>0.462852</td>\n",
       "      <td>0.700000</td>\n",
       "      <td>1.000000</td>\n",
       "    </tr>\n",
       "  </tbody>\n",
       "</table>\n",
       "</div>"
      ],
      "text/plain": [
       "       Pregnancies     Glucose  BloodPressure  SkinThickness     Insulin  \\\n",
       "count   611.000000  611.000000     611.000000     611.000000  611.000000   \n",
       "mean      0.218928    0.587989       0.588031       0.210204    0.078074   \n",
       "std       0.190188    0.136414       0.089507       0.154022    0.093101   \n",
       "min       0.000000    0.221106       0.360656       0.000000    0.000000   \n",
       "25%       0.058824    0.492462       0.524590       0.000000    0.000000   \n",
       "50%       0.176471    0.562814       0.590164       0.232323    0.048463   \n",
       "75%       0.352941    0.668342       0.655738       0.323232    0.141844   \n",
       "max       0.764706    0.944724       0.836066       0.606061    0.375887   \n",
       "\n",
       "              BMI  DiabetesPedigreeFunction         Age     Outcome  \n",
       "count  611.000000                611.000000  611.000000  611.000000  \n",
       "mean     0.476220                  0.148870    0.184888    0.297872  \n",
       "std      0.095792                  0.104898    0.174890    0.457698  \n",
       "min      0.271237                  0.000000    0.000000    0.000000  \n",
       "25%      0.406855                  0.069599    0.050000    0.000000  \n",
       "50%      0.476900                  0.120837    0.116667    0.000000  \n",
       "75%      0.535022                  0.216268    0.300000    1.000000  \n",
       "max      0.740686                  0.462852    0.700000    1.000000  "
      ]
     },
     "execution_count": 10,
     "metadata": {},
     "output_type": "execute_result"
    }
   ],
   "source": [
    "data.describe()"
   ]
  },
  {
   "cell_type": "code",
   "execution_count": 11,
   "metadata": {},
   "outputs": [
    {
     "data": {
      "text/plain": [
       "<matplotlib.axes._subplots.AxesSubplot at 0x7f6a21381978>"
      ]
     },
     "execution_count": 11,
     "metadata": {},
     "output_type": "execute_result"
    },
    {
     "data": {
      "image/png": "[encoded data removed]",
      "text/plain": [
       "<Figure size 864x288 with 1 Axes>"
      ]
     },
     "metadata": {},
     "output_type": "display_data"
    }
   ],
   "source": [
    "data.boxplot(column=numerical,figsize=(12,4))"
   ]
  },
  {
   "cell_type": "code",
   "execution_count": 12,
   "metadata": {},
   "outputs": [
    {
     "data": {
      "text/plain": [
       "array([[<matplotlib.axes._subplots.AxesSubplot object at 0x7f6a212194a8>,\n",
       "        <matplotlib.axes._subplots.AxesSubplot object at 0x7f6a212459e8>,\n",
       "        <matplotlib.axes._subplots.AxesSubplot object at 0x7f6a211f70b8>],\n",
       "       [<matplotlib.axes._subplots.AxesSubplot object at 0x7f6a2119d710>,\n",
       "        <matplotlib.axes._subplots.AxesSubplot object at 0x7f6a211c6da0>,\n",
       "        <matplotlib.axes._subplots.AxesSubplot object at 0x7f6a211c6dd8>],\n",
       "       [<matplotlib.axes._subplots.AxesSubplot object at 0x7f6a2111db00>,\n",
       "        <matplotlib.axes._subplots.AxesSubplot object at 0x7f6a2114e1d0>,\n",
       "        <matplotlib.axes._subplots.AxesSubplot object at 0x7f6a210f6860>]],\n",
       "      dtype=object)"
      ]
     },
     "execution_count": 12,
     "metadata": {},
     "output_type": "execute_result"
    },
    {
     "data": {
      "image/png": "[encoded data removed]",
      "text/plain": [
       "<Figure size 864x864 with 9 Axes>"
      ]
     },
     "metadata": {},
     "output_type": "display_data"
    }
   ],
   "source": [
    "data.hist(column =numerical,figsize=(12,12))"
   ]
  },
  {
   "cell_type": "code",
   "execution_count": 13,
   "metadata": {},
   "outputs": [
    {
     "data": {
      "text/html": [
       "<div>\n",
       "<style scoped>\n",
       "    .dataframe tbody tr th:only-of-type {\n",
       "        vertical-align: middle;\n",
       "    }\n",
       "\n",
       "    .dataframe tbody tr th {\n",
       "        vertical-align: top;\n",
       "    }\n",
       "\n",
       "    .dataframe thead th {\n",
       "        text-align: right;\n",
       "    }\n",
       "</style>\n",
       "<table border=\"1\" class=\"dataframe\">\n",
       "  <thead>\n",
       "    <tr style=\"text-align: right;\">\n",
       "      <th></th>\n",
       "      <th>Pregnancies</th>\n",
       "      <th>Glucose</th>\n",
       "      <th>BloodPressure</th>\n",
       "      <th>SkinThickness</th>\n",
       "      <th>Insulin</th>\n",
       "      <th>BMI</th>\n",
       "      <th>DiabetesPedigreeFunction</th>\n",
       "      <th>Age</th>\n",
       "    </tr>\n",
       "  </thead>\n",
       "  <tbody>\n",
       "    <tr>\n",
       "      <th>Pregnancies</th>\n",
       "      <td>1.000000</td>\n",
       "      <td>0.131093</td>\n",
       "      <td>0.177593</td>\n",
       "      <td>-0.094312</td>\n",
       "      <td>-0.118734</td>\n",
       "      <td>0.022461</td>\n",
       "      <td>-0.005296</td>\n",
       "      <td>0.585431</td>\n",
       "    </tr>\n",
       "    <tr>\n",
       "      <th>Glucose</th>\n",
       "      <td>0.131093</td>\n",
       "      <td>1.000000</td>\n",
       "      <td>0.231952</td>\n",
       "      <td>0.014274</td>\n",
       "      <td>0.269807</td>\n",
       "      <td>0.196936</td>\n",
       "      <td>0.052263</td>\n",
       "      <td>0.248082</td>\n",
       "    </tr>\n",
       "    <tr>\n",
       "      <th>BloodPressure</th>\n",
       "      <td>0.177593</td>\n",
       "      <td>0.231952</td>\n",
       "      <td>1.000000</td>\n",
       "      <td>0.049767</td>\n",
       "      <td>-0.034023</td>\n",
       "      <td>0.287783</td>\n",
       "      <td>0.029676</td>\n",
       "      <td>0.336663</td>\n",
       "    </tr>\n",
       "    <tr>\n",
       "      <th>SkinThickness</th>\n",
       "      <td>-0.094312</td>\n",
       "      <td>0.014274</td>\n",
       "      <td>0.049767</td>\n",
       "      <td>1.000000</td>\n",
       "      <td>0.477970</td>\n",
       "      <td>0.388918</td>\n",
       "      <td>0.154033</td>\n",
       "      <td>-0.105869</td>\n",
       "    </tr>\n",
       "    <tr>\n",
       "      <th>Insulin</th>\n",
       "      <td>-0.118734</td>\n",
       "      <td>0.269807</td>\n",
       "      <td>-0.034023</td>\n",
       "      <td>0.477970</td>\n",
       "      <td>1.000000</td>\n",
       "      <td>0.186764</td>\n",
       "      <td>0.215353</td>\n",
       "      <td>-0.075049</td>\n",
       "    </tr>\n",
       "    <tr>\n",
       "      <th>BMI</th>\n",
       "      <td>0.022461</td>\n",
       "      <td>0.196936</td>\n",
       "      <td>0.287783</td>\n",
       "      <td>0.388918</td>\n",
       "      <td>0.186764</td>\n",
       "      <td>1.000000</td>\n",
       "      <td>0.146772</td>\n",
       "      <td>0.079518</td>\n",
       "    </tr>\n",
       "    <tr>\n",
       "      <th>DiabetesPedigreeFunction</th>\n",
       "      <td>-0.005296</td>\n",
       "      <td>0.052263</td>\n",
       "      <td>0.029676</td>\n",
       "      <td>0.154033</td>\n",
       "      <td>0.215353</td>\n",
       "      <td>0.146772</td>\n",
       "      <td>1.000000</td>\n",
       "      <td>0.051970</td>\n",
       "    </tr>\n",
       "    <tr>\n",
       "      <th>Age</th>\n",
       "      <td>0.585431</td>\n",
       "      <td>0.248082</td>\n",
       "      <td>0.336663</td>\n",
       "      <td>-0.105869</td>\n",
       "      <td>-0.075049</td>\n",
       "      <td>0.079518</td>\n",
       "      <td>0.051970</td>\n",
       "      <td>1.000000</td>\n",
       "    </tr>\n",
       "  </tbody>\n",
       "</table>\n",
       "</div>"
      ],
      "text/plain": [
       "                          Pregnancies   Glucose  BloodPressure  SkinThickness  \\\n",
       "Pregnancies                  1.000000  0.131093       0.177593      -0.094312   \n",
       "Glucose                      0.131093  1.000000       0.231952       0.014274   \n",
       "BloodPressure                0.177593  0.231952       1.000000       0.049767   \n",
       "SkinThickness               -0.094312  0.014274       0.049767       1.000000   \n",
       "Insulin                     -0.118734  0.269807      -0.034023       0.477970   \n",
       "BMI                          0.022461  0.196936       0.287783       0.388918   \n",
       "DiabetesPedigreeFunction    -0.005296  0.052263       0.029676       0.154033   \n",
       "Age                          0.585431  0.248082       0.336663      -0.105869   \n",
       "\n",
       "                           Insulin       BMI  DiabetesPedigreeFunction  \\\n",
       "Pregnancies              -0.118734  0.022461                 -0.005296   \n",
       "Glucose                   0.269807  0.196936                  0.052263   \n",
       "BloodPressure            -0.034023  0.287783                  0.029676   \n",
       "SkinThickness             0.477970  0.388918                  0.154033   \n",
       "Insulin                   1.000000  0.186764                  0.215353   \n",
       "BMI                       0.186764  1.000000                  0.146772   \n",
       "DiabetesPedigreeFunction  0.215353  0.146772                  1.000000   \n",
       "Age                      -0.075049  0.079518                  0.051970   \n",
       "\n",
       "                               Age  \n",
       "Pregnancies               0.585431  \n",
       "Glucose                   0.248082  \n",
       "BloodPressure             0.336663  \n",
       "SkinThickness            -0.105869  \n",
       "Insulin                  -0.075049  \n",
       "BMI                       0.079518  \n",
       "DiabetesPedigreeFunction  0.051970  \n",
       "Age                       1.000000  "
      ]
     },
     "execution_count": 13,
     "metadata": {},
     "output_type": "execute_result"
    }
   ],
   "source": [
    "data[numerical].corr()"
   ]
  },
  {
   "cell_type": "code",
   "execution_count": 14,
   "metadata": {},
   "outputs": [
    {
     "data": {
      "text/plain": [
       "<matplotlib.axes._subplots.AxesSubplot at 0x7f6a21029d68>"
      ]
     },
     "execution_count": 14,
     "metadata": {},
     "output_type": "execute_result"
    },
    {
     "data": {
      "image/png": "[encoded data removed]",
      "text/plain": [
       "<Figure size 432x288 with 1 Axes>"
      ]
     },
     "metadata": {},
     "output_type": "display_data"
    }
   ],
   "source": [
    "data.plot(kind='scatter',x=\"Age\",y=\"Pregnancies\")"
   ]
  },
  {
   "cell_type": "code",
   "execution_count": 15,
   "metadata": {},
   "outputs": [
    {
     "data": {
      "text/plain": [
       "<matplotlib.axes._subplots.AxesSubplot at 0x7f6a20bcd240>"
      ]
     },
     "execution_count": 15,
     "metadata": {},
     "output_type": "execute_result"
    },
    {
     "data": {
      "image/png": "[encoded data removed]",
      "text/plain": [
       "<Figure size 432x432 with 1 Axes>"
      ]
     },
     "metadata": {},
     "output_type": "display_data"
    }
   ],
   "source": [
    "data['Outcome'].value_counts().plot(kind='bar', figsize=(6,6))"
   ]
  },
  {
   "cell_type": "code",
   "execution_count": 16,
   "metadata": {},
   "outputs": [
    {
     "data": {
      "text/plain": [
       "Text(0.5,1,'Graphique ACP')"
      ]
     },
     "execution_count": 16,
     "metadata": {},
     "output_type": "execute_result"
    },
    {
     "data": {
      "image/png": "[encoded data removed]",
      "text/plain": [
       "<Figure size 1440x432 with 1 Axes>"
      ]
     },
     "metadata": {},
     "output_type": "display_data"
    }
   ],
   "source": [
    "pca = PCA(n_components=2)\n",
    "dataPCA = pca.fit_transform(data[numerical])\n",
    "labels_pca= data['Outcome']\n",
    "cmp = np.array(['r','g'])\n",
    "plt.figure(figsize=(20,6))\n",
    "plt.scatter(dataPCA[:,0],dataPCA[:,1],c=cmp[labels_pca],s=10,edgecolors='none')\n",
    "plt.xlabel(\"Premier Composant\")\n",
    "plt.ylabel(\"Deuxieme Composant\")\n",
    "plt.title(\"Graphique ACP\")"
   ]
  },
  {
   "cell_type": "code",
   "execution_count": 17,
   "metadata": {},
   "outputs": [
    {
     "name": "stdout",
     "output_type": "stream",
     "text": [
      "Training set has 488 samples\n",
      "Testing set has 123 samples\n"
     ]
    }
   ],
   "source": [
    "X_train,X_test, y_train,y_test = train_test_split(data[numerical],data['Outcome'],test_size=0.2,random_state=1)\n",
    "print(\"Training set has {} samples\".format(X_train.shape[0]))\n",
    "print(\"Testing set has {} samples\".format(X_test.shape[0]))"
   ]
  },
  {
   "cell_type": "code",
   "execution_count": 20,
   "metadata": {},
   "outputs": [],
   "source": [
    "models=[]\n",
    "models.append(('LogisticRegression',LogisticRegression()))\n",
    "models.append(('LinearDiscriminantAnalysis',LinearDiscriminantAnalysis()))\n",
    "models.append(('KNeighborsClassifier',KNeighborsClassifier()))\n",
    "models.append(('DecisionTreeClassifier',DecisionTreeClassifier()))\n",
    "models.append(('GaussianNB',GaussianNB()))\n",
    "models.append(('SVM',SVC()))\n",
    "models.append(('RandomForestClassifier',RandomForestClassifier()))\n",
    "models.append(('MLP',MLPClassifier()))"
   ]
  },
  {
   "cell_type": "code",
   "execution_count": 21,
   "metadata": {},
   "outputs": [
    {
     "data": {
      "text/html": [
       "<div>\n",
       "<style scoped>\n",
       "    .dataframe tbody tr th:only-of-type {\n",
       "        vertical-align: middle;\n",
       "    }\n",
       "\n",
       "    .dataframe tbody tr th {\n",
       "        vertical-align: top;\n",
       "    }\n",
       "\n",
       "    .dataframe thead th {\n",
       "        text-align: right;\n",
       "    }\n",
       "</style>\n",
       "<table border=\"1\" class=\"dataframe\">\n",
       "  <thead>\n",
       "    <tr style=\"text-align: right;\">\n",
       "      <th></th>\n",
       "      <th>Model</th>\n",
       "      <th>accuracy</th>\n",
       "      <th>roc_auc</th>\n",
       "      <th>f1</th>\n",
       "      <th>precision</th>\n",
       "      <th>recall</th>\n",
       "    </tr>\n",
       "  </thead>\n",
       "  <tbody>\n",
       "    <tr>\n",
       "      <th>0</th>\n",
       "      <td>KNeighborsClassifier</td>\n",
       "      <td>0.745844</td>\n",
       "      <td>0.815487</td>\n",
       "      <td>0.434635</td>\n",
       "      <td>0.700057</td>\n",
       "      <td>0.322679</td>\n",
       "    </tr>\n",
       "    <tr>\n",
       "      <th>1</th>\n",
       "      <td>SVM</td>\n",
       "      <td>0.762378</td>\n",
       "      <td>0.826428</td>\n",
       "      <td>0.554482</td>\n",
       "      <td>0.651698</td>\n",
       "      <td>0.488099</td>\n",
       "    </tr>\n",
       "    <tr>\n",
       "      <th>2</th>\n",
       "      <td>DecisionTreeClassifier</td>\n",
       "      <td>0.727536</td>\n",
       "      <td>0.742072</td>\n",
       "      <td>0.519480</td>\n",
       "      <td>0.572228</td>\n",
       "      <td>0.484415</td>\n",
       "    </tr>\n",
       "    <tr>\n",
       "      <th>3</th>\n",
       "      <td>LinearDiscriminantAnalysis</td>\n",
       "      <td>0.707069</td>\n",
       "      <td>0.651608</td>\n",
       "      <td>0.521406</td>\n",
       "      <td>0.504490</td>\n",
       "      <td>0.538104</td>\n",
       "    </tr>\n",
       "    <tr>\n",
       "      <th>4</th>\n",
       "      <td>GaussianNB</td>\n",
       "      <td>0.739811</td>\n",
       "      <td>0.807672</td>\n",
       "      <td>0.565418</td>\n",
       "      <td>0.582788</td>\n",
       "      <td>0.560113</td>\n",
       "    </tr>\n",
       "    <tr>\n",
       "      <th>5</th>\n",
       "      <td>LogisticRegression</td>\n",
       "      <td>0.698521</td>\n",
       "      <td>0.821050</td>\n",
       "      <td>0.055003</td>\n",
       "      <td>0.357143</td>\n",
       "      <td>0.029945</td>\n",
       "    </tr>\n",
       "    <tr>\n",
       "      <th>6</th>\n",
       "      <td>MLP</td>\n",
       "      <td>0.725348</td>\n",
       "      <td>0.761443</td>\n",
       "      <td>0.528992</td>\n",
       "      <td>0.612820</td>\n",
       "      <td>0.389599</td>\n",
       "    </tr>\n",
       "    <tr>\n",
       "      <th>7</th>\n",
       "      <td>RandomForestClassifier</td>\n",
       "      <td>0.708903</td>\n",
       "      <td>0.768489</td>\n",
       "      <td>0.367637</td>\n",
       "      <td>0.607071</td>\n",
       "      <td>0.301356</td>\n",
       "    </tr>\n",
       "  </tbody>\n",
       "</table>\n",
       "</div>"
      ],
      "text/plain": [
       "                        Model  accuracy   roc_auc        f1  precision  \\\n",
       "0        KNeighborsClassifier  0.745844  0.815487  0.434635   0.700057   \n",
       "1                         SVM  0.762378  0.826428  0.554482   0.651698   \n",
       "2      DecisionTreeClassifier  0.727536  0.742072  0.519480   0.572228   \n",
       "3  LinearDiscriminantAnalysis  0.707069  0.651608  0.521406   0.504490   \n",
       "4                  GaussianNB  0.739811  0.807672  0.565418   0.582788   \n",
       "5          LogisticRegression  0.698521  0.821050  0.055003   0.357143   \n",
       "6                         MLP  0.725348  0.761443  0.528992   0.612820   \n",
       "7      RandomForestClassifier  0.708903  0.768489  0.367637   0.607071   \n",
       "\n",
       "     recall  \n",
       "0  0.322679  \n",
       "1  0.488099  \n",
       "2  0.484415  \n",
       "3  0.538104  \n",
       "4  0.560113  \n",
       "5  0.029945  \n",
       "6  0.389599  \n",
       "7  0.301356  "
      ]
     },
     "execution_count": 21,
     "metadata": {},
     "output_type": "execute_result"
    }
   ],
   "source": [
    "results = []\n",
    "results_mean=[]\n",
    "names = []\n",
    "seed = 10\n",
    "score =['accuracy','roc_auc','f1','precision','recall']\n",
    "scores = []\n",
    "for scoring in score:\n",
    "    for name, model in models:\n",
    "        kfold = model_selection.KFold(n_splits=7, random_state=seed)\n",
    "        cv_results = model_selection.cross_val_score(model, X_train,y_train,cv=kfold,scoring=scoring,verbose=0)\n",
    "        results.append(cv_results)\n",
    "        names.append(name)\n",
    "        scores.append(scoring)\n",
    "        results_mean.append(cv_results.mean())\n",
    "        \n",
    "data_r = pd.DataFrame(columns=['Model','score','result'])\n",
    "data_r['Model'] = names\n",
    "data_r['score'] = scores\n",
    "data_r['result'] = results_mean\n",
    "\n",
    "data_rr = pd.DataFrame(columns=['Model','accuracy','roc_auc','f1','precision','recall'])\n",
    "\n",
    "data_rr['Model'] = list(set(data_r['Model']))\n",
    "data_rr['accuracy'] = list(data_r['result'][data_r['score']== 'accuracy'])\n",
    "data_rr['roc_auc'] = list(data_r['result'][data_r['score']== 'roc_auc'])\n",
    "data_rr['f1'] = list(data_r['result'][data_r['score']== 'f1'])\n",
    "data_rr['precision'] = list(data_r['result'][data_r['score']== 'precision'])\n",
    "data_rr['recall'] = list(data_r['result'][data_r['score']== 'recall'])\n",
    "data_rr"
   ]
  },
  {
   "cell_type": "code",
   "execution_count": 22,
   "metadata": {},
   "outputs": [],
   "source": [
    "svc = model_selection.GridSearchCV(SVC(),{},cv=5)\n",
    "svc.fit(X_train,y_train)\n",
    "model_final = svc.best_estimator_"
   ]
  },
  {
   "cell_type": "code",
   "execution_count": 23,
   "metadata": {},
   "outputs": [],
   "source": [
    "pred = model_final.predict(X_test)"
   ]
  },
  {
   "cell_type": "code",
   "execution_count": 24,
   "metadata": {},
   "outputs": [
    {
     "data": {
      "text/plain": [
       "0.7479674796747967"
      ]
     },
     "execution_count": 24,
     "metadata": {},
     "output_type": "execute_result"
    }
   ],
   "source": [
    "accuracy_score(pred,y_test)"
   ]
  },
  {
   "cell_type": "code",
   "execution_count": 25,
   "metadata": {},
   "outputs": [
    {
     "data": {
      "text/plain": [
       "0.7131147540983607"
      ]
     },
     "execution_count": 25,
     "metadata": {},
     "output_type": "execute_result"
    }
   ],
   "source": [
    "model_final.score(X_train,y_train)"
   ]
  },
  {
   "cell_type": "code",
   "execution_count": 26,
   "metadata": {},
   "outputs": [
    {
     "data": {
      "text/plain": [
       "0.7479674796747967"
      ]
     },
     "execution_count": 26,
     "metadata": {},
     "output_type": "execute_result"
    }
   ],
   "source": [
    "model_final.score(X_test,y_test)"
   ]
  },
  {
   "cell_type": "code",
   "execution_count": null,
   "metadata": {},
   "outputs": [],
   "source": []
  }
 ],
 "metadata": {
  "kernelspec": {
   "display_name": "Python 3",
   "language": "python",
   "name": "python3"
  },
  "language_info": {
   "codemirror_mode": {
    "name": "ipython",
    "version": 3
   },
   "file_extension": ".py",
   "mimetype": "text/x-python",
   "name": "python",
   "nbconvert_exporter": "python",
   "pygments_lexer": "ipython3",
   "version": "3.6.5"
  }
 },
 "nbformat": 4,
 "nbformat_minor": 2
}
